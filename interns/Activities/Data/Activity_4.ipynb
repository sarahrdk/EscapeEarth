{
  "nbformat": 4,
  "nbformat_minor": 0,
  "metadata": {
    "colab": {
      "name": "Activity-4.ipynb",
      "provenance": [],
      "authorship_tag": "ABX9TyPSplUtJQA/JjxVKImZ74yI",
      "include_colab_link": true
    },
    "kernelspec": {
      "name": "python3",
      "display_name": "Python 3"
    }
  },
  "cells": [
    {
      "cell_type": "markdown",
      "metadata": {
        "id": "view-in-github",
        "colab_type": "text"
      },
      "source": [
        "<a href=\"https://colab.research.google.com/github/deerow22/EscapeEarth/blob/main/interns/Activities/Data/Activity_4.ipynb\" target=\"_parent\"><img src=\"https://colab.research.google.com/assets/colab-badge.svg\" alt=\"Open In Colab\"/></a>"
      ]
    },
    {
      "cell_type": "markdown",
      "metadata": {
        "id": "qzL0euiftQiU"
      },
      "source": [
        "# **Review of Python Classes**\n",
        "\n",
        "\n",
        "---\n",
        "\n"
      ]
    },
    {
      "cell_type": "markdown",
      "metadata": {
        "id": "GHqxlgjRtHyo"
      },
      "source": [
        "We are going to practice calculating tree statistics using a class called Tree. \n",
        "For the first example I will walk you through the steps. Then we will add items\n",
        "to the class and I will let you practice initializing them. If you see \"Run\" \n",
        "above a cell you can simply run that cell as is, otherwise above the cell there\n",
        "will be instructions for what code you should write.\n",
        "## Run"
      ]
    },
    {
      "cell_type": "code",
      "metadata": {
        "id": "1AeJMOIetJW5"
      },
      "source": [
        "## Here is a class I wrote\n",
        "\n",
        "class Tree(object):\n",
        "    collection = 'Data collected in 2020'\n",
        "    \n",
        "    '''\n",
        "    A class for holding measured tree ring data to make calculations\n",
        "    \n",
        "    Parameters\n",
        "    ----------\n",
        "    name: str\n",
        "        name of tree\n",
        "    rings: array or list \n",
        "        measurements of diameter of each tree ring\n",
        "    heights: float\n",
        "        measurement of height of tree \n",
        "    \n",
        "    '''\n",
        "    def __init__(self,name,rings,heights):\n",
        "        #imports for this function\n",
        "        from warnings import warn\n",
        "        import numpy as np\n",
        "\n",
        "        #validate data formats\n",
        "        if isinstance(name,str):\n",
        "            self.name = name\n",
        "        else:\n",
        "            self.name = 'Unknown tree name'\n",
        "        if isinstance(heights,float):\n",
        "            self.height = heights\n",
        "        else:\n",
        "            warn(\"Height is not a float, please reinitiate class with tree height as a float\")\n",
        "        if isinstance(rings,np.ndarray):\n",
        "            self.diameters = rings\n",
        "        elif isinstance(rings, list):\n",
        "            self.diameters = rings\n",
        "        else:\n",
        "            warn(\"Ring measurements must be inside list or array\")\n",
        "\n",
        "        \n",
        "    def area(self):\n",
        "        '''\n",
        "        Calculate area of each tree ring\n",
        "        \n",
        "        Returns\n",
        "        ---------\n",
        "        ring_areas: list\n",
        "            a list of tree ring areas\n",
        "        '''\n",
        "        import math as m\n",
        "        \n",
        "        ring_areas = []\n",
        "        for ring in self.diameters:\n",
        "            radius = ring/2\n",
        "            a = m.pi * radius**2\n",
        "            ring_areas.append(a)\n",
        "            \n",
        "        return ring_areas\n",
        "    \n",
        "    \n",
        "    def plot(self):\n",
        "        '''\n",
        "        Plots the circle with center at origin (0,0)\n",
        "        \n",
        "        Returns\n",
        "        --------\n",
        "        fig: figure\n",
        "            matplotlib figure with all rings plotted\n",
        "        '''\n",
        "        import matplotlib.pyplot as plt\n",
        "        import numpy as np\n",
        "        \n",
        "        fig = plt.figure()\n",
        "        for diameter in self.diameters:\n",
        "            r = diameter/2\n",
        "            \n",
        "            #fill in plot for smaller circles -makes look better\n",
        "            if r <=12:\n",
        "                h = np.arange(-r,r,.00005)\n",
        "            else:\n",
        "                h = np.arange(-r,r,.005)\n",
        "\n",
        "            y = [np.sqrt(r**2 - h_i**2) for h_i in h]\n",
        "            x = [np.sqrt(r**2 - k_i**2) for k_i in y]\n",
        "            allx = np.concatenate((x,x,[-i for i in x],[-i for i in x]),axis = None)\n",
        "            ally = np.concatenate((y,[-j for j in y],[-j for j in y],y),axis=None)\n",
        "            plt.scatter(allx,ally)\n",
        "            plt.title(f'{self.name} Tree with {len(self.diameters)} tree rings')\n",
        "        \n",
        "        return fig\n",
        "\n",
        "    \n",
        "    def ring_ages(self,areas):\n",
        "        '''\n",
        "        This is a totally made up calculation for age of each tree ring\n",
        "        *Disclaimer: the truth is each tree ring is one year of growth*\n",
        "        \n",
        "        Parameters\n",
        "        ----------\n",
        "        areas: list \n",
        "            list of each ring's area from .area() method\n",
        "        \n",
        "        Returns\n",
        "        ----------\n",
        "        age: list\n",
        "            list of ages of each tree ring\n",
        "        \n",
        "        '''\n",
        "        number = len(self.diameters)\n",
        "        total = []\n",
        "        for area in areas:\n",
        "            growth = number/area\n",
        "            total.append(growth)\n",
        "        \n",
        "        return total"
      ],
      "execution_count": null,
      "outputs": []
    },
    {
      "cell_type": "markdown",
      "metadata": {
        "id": "HIIqkrgat8CQ"
      },
      "source": [
        "## Let's see this class in action\n",
        "To initiate a class run the next cell\n",
        "### Run"
      ]
    },
    {
      "cell_type": "code",
      "metadata": {
        "colab": {
          "base_uri": "https://localhost:8080/"
        },
        "id": "l3B-wSCQt3jY",
        "outputId": "74213784-6283-43dc-b9df-a160976efddc"
      },
      "source": [
        "# test data\n",
        "name_A = 'Oak'\n",
        "rings_A = [13,8,4] \n",
        "height_A = 21.5\n",
        "\n",
        "#put test data into class\n",
        "mytest_A = Tree(name_A,rings_A,height_A)\n",
        "\n",
        "#let's see what that is\n",
        "mytest_A"
      ],
      "execution_count": null,
      "outputs": [
        {
          "output_type": "execute_result",
          "data": {
            "text/plain": [
              "<__main__.Tree at 0x7fe7a3a36780>"
            ]
          },
          "metadata": {
            "tags": []
          },
          "execution_count": 11
        }
      ]
    },
    {
      "cell_type": "markdown",
      "metadata": {
        "id": "oAzsDmXduXDt"
      },
      "source": [
        "## Now let's see how to access the attributes \n",
        "attributes hold info that describes our class object's data\n",
        "### Run"
      ]
    },
    {
      "cell_type": "code",
      "metadata": {
        "colab": {
          "base_uri": "https://localhost:8080/"
        },
        "id": "16xbH1wnt_9f",
        "outputId": "71d9e253-f472-4575-c686-1f943dea7161"
      },
      "source": [
        "# instance variables\n",
        "print('Name attribute:',mytest_A.name)\n",
        "print('Ring Diameters attribute:',mytest_A.diameters)\n",
        "print('Tree Height attribute:',mytest_A.height)\n",
        "\n",
        "# class variables\n",
        "print('Global info attribute:', mytest_A.collection)"
      ],
      "execution_count": null,
      "outputs": [
        {
          "output_type": "stream",
          "text": [
            "Name attribute: Oak\n",
            "Ring Diameters attribute: [13, 8, 4]\n",
            "Tree Height attribute: 21.5\n",
            "Global info attribute: Data collected in 2020\n"
          ],
          "name": "stdout"
        }
      ]
    },
    {
      "cell_type": "markdown",
      "metadata": {
        "id": "kY7S9QYfudLX"
      },
      "source": [
        "## And just for fun let's visualize this data\n",
        "this isn't necessary but helps us humans \n",
        "### Run"
      ]
    },
    {
      "cell_type": "code",
      "metadata": {
        "colab": {
          "base_uri": "https://localhost:8080/",
          "height": 281
        },
        "id": "QsivqG8duZxK",
        "outputId": "ba712868-c7c3-40f7-9e12-4ced64681cf0"
      },
      "source": [
        "myplot = mytest_A.plot()"
      ],
      "execution_count": null,
      "outputs": [
        {
          "output_type": "display_data",
          "data": {
            "image/png": "[encoded data removed]",
            "text/plain": [
              "<Figure size 432x288 with 1 Axes>"
            ]
          },
          "metadata": {
            "tags": [],
            "needs_background": "light"
          }
        }
      ]
    },
    {
      "cell_type": "markdown",
      "metadata": {
        "id": "1vJtbHQ8uujm"
      },
      "source": [
        "## Finally let's calculate some tree statistics\n",
        "We will use the bound methods to apply the class functions to our data. \n",
        "Notice the difference of () when calling methods vs. attributes\n",
        "### Run"
      ]
    },
    {
      "cell_type": "code",
      "metadata": {
        "colab": {
          "base_uri": "https://localhost:8080/"
        },
        "id": "nfYNEAUTugY6",
        "outputId": "7232ad0a-275d-4686-ded7-6357346d13c3"
      },
      "source": [
        "#test 'area' & 'ring_age' methods\n",
        "\n",
        "myareas = mytest_A.area() \n",
        "print('Ring Areas:',myareas)\n",
        "\n",
        "myringages = mytest_A.ring_ages(myareas)\n",
        "print('Ring Ages:',myringages)"
      ],
      "execution_count": null,
      "outputs": [
        {
          "output_type": "stream",
          "text": [
            "Ring Areas: [132.73228961416876, 50.26548245743669, 12.566370614359172]\n",
            "Ring Ages: [0.02260188540949993, 0.05968310365946075, 0.238732414637843]\n"
          ],
          "name": "stdout"
        }
      ]
    },
    {
      "cell_type": "markdown",
      "metadata": {
        "id": "YTFuZ61Guzd5"
      },
      "source": [
        "# ------- **Make Changes to Class** ----------\n",
        "\n",
        "\n",
        "---\n",
        "\n",
        "\n",
        "We want to create a constructor to give our object representation\n",
        "Vocab Note: methods (functions) that use double underscores, such as __ repr __\n",
        "and __ init __ are called Dunder methods\n",
        "## In the below cell, under the hashtags, write a function called __ repr __ that will return the string \"X tree with Y rings\" - where X is the name of the tree and Y is the number of rings"
      ]
    },
    {
      "cell_type": "code",
      "metadata": {
        "id": "kLzQnnKCuywk"
      },
      "source": [
        "## Here is a class I wrote\n",
        "\n",
        "class Tree(object):\n",
        "    collection = 'Data collected in 2020'\n",
        "    \n",
        "    '''\n",
        "    A class for holding measured tree ring data to make calculations\n",
        "    \n",
        "    Parameters\n",
        "    ----------\n",
        "    name: str\n",
        "        name of tree\n",
        "    rings: array or list \n",
        "        measurements of diameter of each tree ring\n",
        "    heights: float\n",
        "        measurement of height of tree \n",
        "    \n",
        "    '''\n",
        "    def __init__(self,name,rings,heights):\n",
        "        #imports for this function\n",
        "        from warnings import warn\n",
        "        import numpy as np\n",
        "        \n",
        "        #validate data formats\n",
        "        if isinstance(name,str):\n",
        "            self.name = name\n",
        "        else:\n",
        "            self.name = 'Unknown tree name'\n",
        "        if isinstance(heights,float):\n",
        "            self.height = heights\n",
        "        else:\n",
        "            warn(\"Height is not a float, please reinitiate class with tree height as a float\")\n",
        "        if isinstance(rings,np.ndarray):\n",
        "            self.diameters = rings\n",
        "        elif isinstance(rings, list):\n",
        "            self.diameters = rings\n",
        "        else:\n",
        "            warn(\"Ring measurements must be inside list or array\")\n",
        "\n",
        "            \n",
        "##########################################################################\n",
        "###########Write the __repr__ function on the next line###################\n",
        "\n",
        "\n",
        "\n",
        "    def area(self):\n",
        "        '''\n",
        "        Calculate area of each tree ring\n",
        "        \n",
        "        Returns\n",
        "        ---------\n",
        "        ring_areas: list\n",
        "            a list of tree ring areas\n",
        "        '''\n",
        "        import math as m\n",
        "        \n",
        "        ring_areas = []\n",
        "        for ring in self.diameters:\n",
        "            radius = ring/2\n",
        "            a = m.pi * radius**2\n",
        "            ring_areas.append(a)\n",
        "        return ring_areas\n",
        "    \n",
        "    \n",
        "    def plot(self):\n",
        "        '''\n",
        "        Plots the circle with center at origin (0,0)\n",
        "        \n",
        "        Returns\n",
        "        --------\n",
        "        fig: figure\n",
        "            matplotlib figure with all rings plotted\n",
        "        '''\n",
        "        import matplotlib.pyplot as plt\n",
        "        import numpy as np\n",
        "\n",
        "        fig = plt.figure()\n",
        "        for diameter in self.diameters:\n",
        "            r = diameter/2\n",
        "            \n",
        "            #fill in plot for smaller circles -makes look better\n",
        "            if r <=12:\n",
        "                h = np.arange(-r,r,.00005)\n",
        "            else:\n",
        "                h = np.arange(-r,r,.005)\n",
        "\n",
        "            y = [np.sqrt(r**2 - h_i**2) for h_i in h]\n",
        "            x = [np.sqrt(r**2 - k_i**2) for k_i in y]\n",
        "            allx = np.concatenate((x,x,[-i for i in x],[-i for i in x]),axis = None)\n",
        "            ally = np.concatenate((y,[-j for j in y],[-j for j in y],y),axis=None)\n",
        "            plt.scatter(allx,ally)\n",
        "            plt.title(f'{self.name} tree with {len(self.diameters)} tree rings')\n",
        "        \n",
        "        return fig\n",
        "\n",
        "    \n",
        "    def ring_ages(self,areas):\n",
        "        '''\n",
        "        This is a totally made up calculation for age of each tree ring\n",
        "        *Disclaimer: the truth is each tree ring is one year of growth*\n",
        "        \n",
        "        Parameters\n",
        "        ----------\n",
        "        areas: list \n",
        "            list of each ring's area from .area() method\n",
        "        \n",
        "        Returns\n",
        "        ----------\n",
        "        age: list\n",
        "            list of ages of each tree ring\n",
        "        \n",
        "        '''\n",
        "        number = len(self.diameters)\n",
        "        total = []\n",
        "        for area in areas:\n",
        "            growth = number/area\n",
        "            total.append(growth)\n",
        "        \n",
        "        return total"
      ],
      "execution_count": null,
      "outputs": []
    },
    {
      "cell_type": "markdown",
      "metadata": {
        "id": "06RB80dZvWpL"
      },
      "source": [
        "## Test if your __ repr __ function works\n",
        "Make sure you run the above cell after you've made your additions. \n",
        "Then the output of the below cell should be \"Pine tree with 5 rings\"\n",
        "\n",
        "If you get a different output try this _hint_ : look at the code to write the title under the .plot() class function\n",
        "\n",
        "## Run"
      ]
    },
    {
      "cell_type": "code",
      "metadata": {
        "colab": {
          "base_uri": "https://localhost:8080/"
        },
        "id": "Za5TE7ywvTGX",
        "outputId": "d7eef548-1cf6-43f1-e69b-ef5bba2915c2"
      },
      "source": [
        "# test data\n",
        "name_B = 'Pine'\n",
        "rings_B = [27,20,14,9,4] \n",
        "height_B = 42.8\n",
        "\n",
        "#put test data into class\n",
        "mytest_B = Tree(name_B,rings_B,height_B)\n",
        "\n",
        "#let's see what that is\n",
        "mytest_B"
      ],
      "execution_count": null,
      "outputs": [
        {
          "output_type": "execute_result",
          "data": {
            "text/plain": [
              "Pine tree with 5 tree rings"
            ]
          },
          "metadata": {
            "tags": []
          },
          "execution_count": 18
        }
      ]
    },
    {
      "cell_type": "markdown",
      "metadata": {
        "id": "LEUqJEORv2Rw"
      },
      "source": [
        "## Now let's try to add a function to our Tree class\n",
        "Add your function to the very end of the code, underneath the other functions but still inside the same coding cell. Don't forget to write documentation for your function.\n",
        "\n",
        "## Write a class method (function) called \"tree_age\" that will use a list of ring ages (output from the ring_ages() method) as an input parameter. You should sum all the ages and multiple that total by the tree height. The final value will be the tree age that should be returned. \n",
        "#### *Disclaimer: this is a madeup calculation; the truth is the total number of rings is the age of the tree in years*"
      ]
    },
    {
      "cell_type": "code",
      "metadata": {
        "id": "2V-PksV4vbfm"
      },
      "source": [
        "## Here is a class I wrote\n",
        "\n",
        "class Tree(object):\n",
        "    collection = 'Data collected in 2020'\n",
        "    \n",
        "    '''\n",
        "    A class for holding measured tree ring data to make calculations\n",
        "    \n",
        "    Parameters\n",
        "    ----------\n",
        "    name: str\n",
        "        name of tree\n",
        "    rings: array or list \n",
        "        measurements of diameter of each tree ring\n",
        "    heights: float\n",
        "        measurement of height of tree \n",
        "    \n",
        "    '''\n",
        "    def __init__(self,name,rings,heights):\n",
        "        #imports for this function\n",
        "        from warnings import warn\n",
        "        import numpy as np\n",
        "        \n",
        "        #validate data formats\n",
        "        if isinstance(name,str):\n",
        "            self.name = name\n",
        "        else:\n",
        "            self.name = 'Unknown tree name'\n",
        "        if isinstance(heights,float):\n",
        "            self.height = heights\n",
        "        else:\n",
        "            warn(\"Height is not a float, please reinitiate class with tree height as a float\")\n",
        "        if isinstance(rings,np.ndarray):\n",
        "            self.diameters = rings\n",
        "        elif isinstance(rings, list):\n",
        "            self.diameters = rings\n",
        "        else:\n",
        "            warn(\"Ring measurements must be inside list or array\")\n",
        "\n",
        "    def __repr__(self):\n",
        "        return f'{self.name} tree with {len(self.diameters)} tree rings'\n",
        "\n",
        "\n",
        "\n",
        "    def area(self):\n",
        "        '''\n",
        "        Calculate area of each tree ring\n",
        "        \n",
        "        Returns\n",
        "        ---------\n",
        "        ring_areas: list\n",
        "            a list of tree ring areas\n",
        "        '''\n",
        "        import math as m\n",
        "        \n",
        "        ring_areas = []\n",
        "        for ring in self.diameters:\n",
        "            radius = ring/2\n",
        "            a = m.pi * radius**2\n",
        "            ring_areas.append(a)\n",
        "        return ring_areas\n",
        "    \n",
        "    \n",
        "    def plot(self):\n",
        "        '''\n",
        "        Plots the circle with center at origin (0,0)\n",
        "        \n",
        "        Returns\n",
        "        --------\n",
        "        fig: figure\n",
        "            matplotlib figure with all rings plotted\n",
        "        '''\n",
        "        import matplotlib.pyplot as plt\n",
        "        import numpy as np\n",
        "        \n",
        "        fig = plt.figure()\n",
        "        for diameter in self.diameters:\n",
        "            r = diameter/2\n",
        "            \n",
        "            #fill in plot for smaller circles -makes look better\n",
        "            if r <=12:\n",
        "                h = np.arange(-r,r,.00005)\n",
        "            else:\n",
        "                h = np.arange(-r,r,.005)\n",
        "\n",
        "            y = [np.sqrt(r**2 - h_i**2) for h_i in h]\n",
        "            x = [np.sqrt(r**2 - k_i**2) for k_i in y]\n",
        "            allx = np.concatenate((x,x,[-i for i in x],[-i for i in x]),axis = None)\n",
        "            ally = np.concatenate((y,[-j for j in y],[-j for j in y],y),axis=None)\n",
        "            plt.scatter(allx,ally)\n",
        "            plt.title(f'{self.name} tree with {len(self.diameters)} tree rings')\n",
        "        \n",
        "        return fig\n",
        "\n",
        "    \n",
        "    def ring_ages(self,areas):\n",
        "        '''\n",
        "        This is a totally made up calculation for age of each tree ring\n",
        "        *Disclaimer: the truth is each tree ring is one year of growth*\n",
        "        \n",
        "        Parameters\n",
        "        ----------\n",
        "        areas: list \n",
        "            list of each ring's area from .area() method\n",
        "        \n",
        "        Returns\n",
        "        ----------\n",
        "        age: list\n",
        "            list of ages of each tree ring\n",
        "        \n",
        "        '''\n",
        "        number = len(self.diameters)\n",
        "        total = []\n",
        "        for area in areas:\n",
        "            growth = number/area\n",
        "            total.append(growth)\n",
        "        \n",
        "        return total\n",
        "\n",
        "    \n",
        "##########################################################################\n",
        "###########Write the tree_age function on the next line###################\n"
      ],
      "execution_count": null,
      "outputs": []
    },
    {
      "cell_type": "markdown",
      "metadata": {
        "id": "CvcJZiYIwJBe"
      },
      "source": [
        "## Test if your function works\n",
        "Run the above cell once you have added the tree_age class method. Then run the below cell to see if you get any errors or output a float value. Note that you should have used the name tree_age for your function and it should accept one input argument.\n",
        "### Run"
      ]
    },
    {
      "cell_type": "code",
      "metadata": {
        "colab": {
          "base_uri": "https://localhost:8080/"
        },
        "id": "atJYKDslwD4_",
        "outputId": "244c7573-44cb-44c0-a6b5-de01a33fc7ae"
      },
      "source": [
        "# test data\n",
        "name_C = 'Red Maple'\n",
        "rings_C = [17,12,10,7,6,3] \n",
        "height_C = 6.45\n",
        "\n",
        "#put test data into class\n",
        "mytest_C = Tree(name_C,rings_C,height_C)\n",
        "\n",
        "### Note that to test our new function below, first \n",
        "### we need outputs from 2 other functions first\n",
        "\n",
        "#get output of area to use with ring_ages function\n",
        "the_areas = mytest_C.area()\n",
        "print('Output from area function:',the_areas)\n",
        "\n",
        "#get output of ring_ages to use with tree_age function\n",
        "the_ring_ages = mytest_C.ring_ages(the_areas)\n",
        "print('\\nOutput from ring_ages function:',the_ring_ages)\n",
        "\n",
        "#test output of tree_age function\n",
        "mytreeages = mytest_C.tree_age(the_ring_ages)\n",
        "print('\\nOutput from YOUR tree_age class method:',mytreeages)"
      ],
      "execution_count": null,
      "outputs": [
        {
          "output_type": "stream",
          "text": [
            "Output from area function: [226.98006922186255, 113.09733552923255, 78.53981633974483, 38.48451000647496, 28.274333882308138, 7.0685834705770345]\n",
            "\n",
            "Output from ring_ages function: [0.02643403899104144, 0.05305164769729845, 0.07639437268410976, 0.15590688302879543, 0.2122065907891938, 0.8488263631567752]\n",
            "\n",
            "Output from YOUR tree_age class method: 8.854688331439531\n"
          ],
          "name": "stdout"
        }
      ]
    },
    {
      "cell_type": "markdown",
      "metadata": {
        "id": "BjJLodSvwRRC"
      },
      "source": [
        "# **Now practice on your own**\n",
        "\n",
        "\n",
        "---\n",
        "\n",
        "You can try writing new class methods, attributes, test initalizing different data formats as class objects, or just experiment.\n",
        "## Run"
      ]
    },
    {
      "cell_type": "code",
      "metadata": {
        "colab": {
          "base_uri": "https://localhost:8080/"
        },
        "id": "WAOK95hfwMKp",
        "outputId": "fed12cbd-b8be-4005-bcb5-7247bc7380e1"
      },
      "source": [
        "# example datasets\n",
        "name_1 = 'Palm'\n",
        "rings_1 =  [3,2,.5] \n",
        "height_1 = 36.5\n",
        "\n",
        "name_2 = 'Douglas Fir'\n",
        "rings_2 = [14,11,10,8,5,3]\n",
        "height_2 = 6.11\n",
        "\n",
        "\n",
        "#put examples into class\n",
        "example_1 = Tree(name_1,rings_1,height_1)\n",
        "example_2 = Tree(name_2,rings_2,height_2)\n",
        "\n",
        "#print class attributes\n",
        "class_a1 = example_1.collection\n",
        "class_a2 = example_2.collection\n",
        "print('Class attributes should always be the same')\n",
        "print('Example 1: {} \\nExample 2: {}'.format(class_a1,class_a2))\n",
        "\n",
        "#print instance attributes\n",
        "instance_a1 = example_1.name\n",
        "instance_a2 = example_2.name\n",
        "print('\\nInstance attributes can vary (and usually do)')\n",
        "print('Example 1: {} \\nExample 2: {}'.format(instance_a1,instance_a2))"
      ],
      "execution_count": null,
      "outputs": [
        {
          "output_type": "stream",
          "text": [
            "Class attributes should always be the same\n",
            "Example 1: Data collected in 2020 \n",
            "Example 2: Data collected in 2020\n",
            "\n",
            "Instance attributes can vary (and usually do)\n",
            "Example 1: Palm \n",
            "Example 2: Douglas Fir\n"
          ],
          "name": "stdout"
        }
      ]
    },
    {
      "cell_type": "markdown",
      "metadata": {
        "id": "DWkpN5fWwcFb"
      },
      "source": [
        "## The cell above had 2 new sample datasets. Look at the differences between the class and instance variables. You can use those new sample datasets to practice. If you amend the class, remember to rerun the code cell and re-initalize the class objects so they inherit your changes. "
      ]
    },
    {
      "cell_type": "code",
      "metadata": {
        "id": "h4FvOZFvwdri"
      },
      "source": [
        ""
      ],
      "execution_count": null,
      "outputs": []
    },
    {
      "cell_type": "code",
      "metadata": {
        "id": "e5xkidWXwZGg"
      },
      "source": [
        ""
      ],
      "execution_count": null,
      "outputs": []
    }
  ]
}