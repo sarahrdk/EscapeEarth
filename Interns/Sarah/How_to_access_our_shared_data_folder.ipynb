{
  "nbformat": 4,
  "nbformat_minor": 0,
  "metadata": {
    "colab": {
      "name": "How to access our shared data folder.ipynb",
      "provenance": [],
      "include_colab_link": true
    },
    "kernelspec": {
      "display_name": "Python 3",
      "language": "python",
      "name": "python3"
    },
    "language_info": {
      "codemirror_mode": {
        "name": "ipython",
        "version": 3
      },
      "file_extension": ".py",
      "mimetype": "text/x-python",
      "name": "python",
      "nbconvert_exporter": "python",
      "pygments_lexer": "ipython3",
      "version": "3.7.6"
    }
  },
  "cells": [
    {
      "cell_type": "markdown",
      "metadata": {
        "id": "view-in-github",
        "colab_type": "text"
      },
      "source": [
        "<a href=\"https://colab.research.google.com/github/sarahrdk/EscapeEarth/blob/main/Interns/Sarah/How_to_access_our_shared_data_folder.ipynb\" target=\"_parent\"><img src=\"https://colab.research.google.com/assets/colab-badge.svg\" alt=\"Open In Colab\"/></a>"
      ]
    },
    {
      "cell_type": "markdown",
      "metadata": {
        "id": "phz4-eH2-b63"
      },
      "source": [
        "# __How to mount our google drive__ \n",
        "#### so we can open the data in our shared EscapeEarthData folder."
      ]
    },
    {
      "cell_type": "code",
      "metadata": {
        "id": "PlXgNEVE-X_i",
        "outputId": "3f40fbcc-fa9e-45c7-b9ce-73a5d1259f6a",
        "colab": {
          "base_uri": "https://localhost:8080/",
          "height": 34
        }
      },
      "source": [
        "# this cell mounts your drive but you also must follow these\n",
        "# STEPS:\n",
        "# 1) run this cell and a url will display that you should click on\n",
        "# 2) select your google account if applicable\n",
        "# 3) click 'Allow' when asked by 'Google Drive File Stream wants to access your Google Account'\n",
        "# 4) click on the copy icon next to the code displayed\n",
        "# 5) paste that code into the below cell prompt 'Enter your authorization code:'\n",
        "# 6) hit the Enter key and wait\n",
        "# 7) successful mounting is indicated by the statement 'Mounted at /content/gdrive'\n",
        "\n",
        "from google.colab import drive\n",
        "\n",
        "drive.mount('/content/gdrive')"
      ],
      "execution_count": 1,
      "outputs": [
        {
          "output_type": "stream",
          "text": [
            "Mounted at /content/gdrive\n"
          ],
          "name": "stdout"
        }
      ]
    },
    {
      "cell_type": "code",
      "metadata": {
        "id": "-qT0thtp-5HD",
        "outputId": "18e91705-3694-4ded-a72d-24a58479c160",
        "colab": {
          "base_uri": "https://localhost:8080/",
          "height": 34
        }
      },
      "source": [
        "# this cell lists what's in your google drive \n",
        "# you should see the shared 'EscapeEarthData' folder\n",
        "!ls /content/gdrive/My\\ Drive"
      ],
      "execution_count": 2,
      "outputs": [
        {
          "output_type": "stream",
          "text": [
            "amnh  EscapeEarthData  Files  imovis  other\n"
          ],
          "name": "stdout"
        }
      ]
    },
    {
      "cell_type": "markdown",
      "metadata": {
        "id": "cSE19OcBHrdx"
      },
      "source": [
        "#### _IF_ you get an error __\"ls: cannot access '/content/gdrive/My Drive': Transport endpoint is not connected\"__ you need to remount your drive. Copy/Paste the below code into a new cell to do so:\n",
        "\n",
        "\n",
        "\n",
        "```\n",
        "from google.colab import drive\n",
        "drive.mount('/content/gdrive', force_remount=True)\n",
        "```\n",
        "\n",
        "#### _Otherwise_, you may proceed but be aware of this issue as it can arise at any time."
      ]
    },
    {
      "cell_type": "code",
      "metadata": {
        "id": "Mgv89xvsCqti",
        "outputId": "6e88df1f-585c-4342-ae11-bd122fc220e8",
        "colab": {
          "base_uri": "https://localhost:8080/",
          "height": 51
        }
      },
      "source": [
        "# we can also list the contents of our shared folder \n",
        "# (once i add more data this wont be a good thing to do tho)\n",
        "!ls /content/gdrive/My\\ Drive/EscapeEarthData"
      ],
      "execution_count": 3,
      "outputs": [
        {
          "output_type": "stream",
          "text": [
            "1161345_lc.csv\t2161623_lc.csv\tbls_powers.npy\tdf8.csv\n",
            "1573836_lc.csv\tActivity-2\tbls_rps.npy\n"
          ],
          "name": "stdout"
        }
      ]
    },
    {
      "cell_type": "markdown",
      "metadata": {
        "id": "QuDVWaEhD70o"
      },
      "source": [
        "# __How to Open Data Files__ \n",
        "#### Before we can open these files we will need to import, _and/or_ install then import, packages & their dependencies "
      ]
    },
    {
      "cell_type": "code",
      "metadata": {
        "id": "X7gqPKfXEKtS",
        "outputId": "8007b614-75ea-4804-df9a-f3c1a9669181",
        "colab": {
          "base_uri": "https://localhost:8080/",
          "height": 1000
        }
      },
      "source": [
        "# import dependencies\n",
        "import numpy as np\n",
        "import pandas as pd\n",
        "# example of an installation then import (we'll need this later)\n",
        "!pip install lightkurve\n",
        "import lightkurve as lk"
      ],
      "execution_count": 4,
      "outputs": [
        {
          "output_type": "stream",
          "text": [
            "Collecting lightkurve\n",
            "\u001b[?25l  Downloading https://files.pythonhosted.org/packages/6b/cb/a2917205537f6bad53b109365e09abe946afbf5d8a4e1f46c3f75abcb398/lightkurve-1.11.3-py3-none-any.whl (515kB)\n",
            "\u001b[K     |████████████████████████████████| 522kB 2.8MB/s \n",
            "\u001b[?25hCollecting astroquery>=0.3.9\n",
            "\u001b[?25l  Downloading https://files.pythonhosted.org/packages/1b/f8/4690523783691ed816b3469c3ec611af3798594d37ade510dd918d59f57e/astroquery-0.4.1.tar.gz (6.5MB)\n",
            "\u001b[K     |████████████████████████████████| 6.5MB 8.5MB/s \n",
            "\u001b[?25hRequirement already satisfied: astropy>=1.3 in /usr/local/lib/python3.6/dist-packages (from lightkurve) (4.0.1.post1)\n",
            "Requirement already satisfied: patsy>=0.5.1 in /usr/local/lib/python3.6/dist-packages (from lightkurve) (0.5.1)\n",
            "Requirement already satisfied: requests in /usr/local/lib/python3.6/dist-packages (from lightkurve) (2.23.0)\n",
            "Collecting uncertainties\n",
            "\u001b[?25l  Downloading https://files.pythonhosted.org/packages/b0/e0/fc200da8190729dcb685ae4877ed6936d31d64aeccb8cc355d9ec982681d/uncertainties-3.1.4-py2.py3-none-any.whl (246kB)\n",
            "\u001b[K     |████████████████████████████████| 256kB 29.5MB/s \n",
            "\u001b[?25hRequirement already satisfied: numpy>=1.11 in /usr/local/lib/python3.6/dist-packages (from lightkurve) (1.18.5)\n",
            "Collecting fbpca>=1.0\n",
            "  Downloading https://files.pythonhosted.org/packages/a7/a5/2085d0645a4bb4f0b606251b0b7466c61326e4a471d445c1c3761a2d07bc/fbpca-1.0.tar.gz\n",
            "Requirement already satisfied: pandas in /usr/local/lib/python3.6/dist-packages (from lightkurve) (1.1.2)\n",
            "Requirement already satisfied: matplotlib>=1.5.3 in /usr/local/lib/python3.6/dist-packages (from lightkurve) (3.2.2)\n",
            "Requirement already satisfied: bs4 in /usr/local/lib/python3.6/dist-packages (from lightkurve) (0.0.1)\n",
            "Collecting scipy!=1.4.0,!=1.4.1,>=0.19.0\n",
            "\u001b[?25l  Downloading https://files.pythonhosted.org/packages/2b/a8/f4c66eb529bb252d50e83dbf2909c6502e2f857550f22571ed8556f62d95/scipy-1.5.2-cp36-cp36m-manylinux1_x86_64.whl (25.9MB)\n",
            "\u001b[K     |████████████████████████████████| 25.9MB 130kB/s \n",
            "\u001b[?25hCollecting oktopus\n",
            "  Downloading https://files.pythonhosted.org/packages/2d/6e/7b7e11442ff70286c22614d200f6145f83528dc6c99fec0982665e25c8d3/oktopus-0.1.2.tar.gz\n",
            "Requirement already satisfied: tqdm>=4.25.0 in /usr/local/lib/python3.6/dist-packages (from lightkurve) (4.41.1)\n",
            "Collecting keyring>=4.0\n",
            "  Downloading https://files.pythonhosted.org/packages/e4/ed/7be20815f248b0d6aae406783c2bee392640924623c4e17b50ca90c7f74d/keyring-21.4.0-py3-none-any.whl\n",
            "Requirement already satisfied: beautifulsoup4>=4.3.2 in /usr/local/lib/python3.6/dist-packages (from astroquery>=0.3.9->lightkurve) (4.6.3)\n",
            "Requirement already satisfied: html5lib>=0.999 in /usr/local/lib/python3.6/dist-packages (from astroquery>=0.3.9->lightkurve) (1.0.1)\n",
            "Requirement already satisfied: six in /usr/local/lib/python3.6/dist-packages (from astroquery>=0.3.9->lightkurve) (1.15.0)\n",
            "Requirement already satisfied: chardet<4,>=3.0.2 in /usr/local/lib/python3.6/dist-packages (from requests->lightkurve) (3.0.4)\n",
            "Requirement already satisfied: idna<3,>=2.5 in /usr/local/lib/python3.6/dist-packages (from requests->lightkurve) (2.10)\n",
            "Requirement already satisfied: urllib3!=1.25.0,!=1.25.1,<1.26,>=1.21.1 in /usr/local/lib/python3.6/dist-packages (from requests->lightkurve) (1.24.3)\n",
            "Requirement already satisfied: certifi>=2017.4.17 in /usr/local/lib/python3.6/dist-packages (from requests->lightkurve) (2020.6.20)\n",
            "Requirement already satisfied: future in /usr/local/lib/python3.6/dist-packages (from uncertainties->lightkurve) (0.16.0)\n",
            "Requirement already satisfied: python-dateutil>=2.7.3 in /usr/local/lib/python3.6/dist-packages (from pandas->lightkurve) (2.8.1)\n",
            "Requirement already satisfied: pytz>=2017.2 in /usr/local/lib/python3.6/dist-packages (from pandas->lightkurve) (2018.9)\n",
            "Requirement already satisfied: cycler>=0.10 in /usr/local/lib/python3.6/dist-packages (from matplotlib>=1.5.3->lightkurve) (0.10.0)\n",
            "Requirement already satisfied: kiwisolver>=1.0.1 in /usr/local/lib/python3.6/dist-packages (from matplotlib>=1.5.3->lightkurve) (1.2.0)\n",
            "Requirement already satisfied: pyparsing!=2.0.4,!=2.1.2,!=2.1.6,>=2.0.1 in /usr/local/lib/python3.6/dist-packages (from matplotlib>=1.5.3->lightkurve) (2.4.7)\n",
            "Requirement already satisfied: autograd in /usr/local/lib/python3.6/dist-packages (from oktopus->lightkurve) (1.3)\n",
            "Collecting jeepney>=0.4.2; sys_platform == \"linux\"\n",
            "  Downloading https://files.pythonhosted.org/packages/79/31/2e8d42727595faf224c6dbb748c32b192e212f25495fe841fb7ce8e168b8/jeepney-0.4.3-py3-none-any.whl\n",
            "Collecting SecretStorage>=3; sys_platform == \"linux\"\n",
            "  Downloading https://files.pythonhosted.org/packages/c3/50/8a02cad020e949e6d7105f5f4530d41e3febcaa5b73f8f2148aacb3aeba5/SecretStorage-3.1.2-py3-none-any.whl\n",
            "Requirement already satisfied: importlib-metadata; python_version < \"3.8\" in /usr/local/lib/python3.6/dist-packages (from keyring>=4.0->astroquery>=0.3.9->lightkurve) (2.0.0)\n",
            "Requirement already satisfied: webencodings in /usr/local/lib/python3.6/dist-packages (from html5lib>=0.999->astroquery>=0.3.9->lightkurve) (0.5.1)\n",
            "Collecting cryptography\n",
            "\u001b[?25l  Downloading https://files.pythonhosted.org/packages/33/62/30f6936941d87a5ed72efb24249437824f6b2c953901245b58c91fde2f27/cryptography-3.1.1-cp35-abi3-manylinux2010_x86_64.whl (2.6MB)\n",
            "\u001b[K     |████████████████████████████████| 2.6MB 38.8MB/s \n",
            "\u001b[?25hRequirement already satisfied: zipp>=0.5 in /usr/local/lib/python3.6/dist-packages (from importlib-metadata; python_version < \"3.8\"->keyring>=4.0->astroquery>=0.3.9->lightkurve) (3.2.0)\n",
            "Requirement already satisfied: cffi!=1.11.3,>=1.8 in /usr/local/lib/python3.6/dist-packages (from cryptography->SecretStorage>=3; sys_platform == \"linux\"->keyring>=4.0->astroquery>=0.3.9->lightkurve) (1.14.3)\n",
            "Requirement already satisfied: pycparser in /usr/local/lib/python3.6/dist-packages (from cffi!=1.11.3,>=1.8->cryptography->SecretStorage>=3; sys_platform == \"linux\"->keyring>=4.0->astroquery>=0.3.9->lightkurve) (2.20)\n",
            "Building wheels for collected packages: astroquery, fbpca, oktopus\n",
            "  Building wheel for astroquery (setup.py) ... \u001b[?25l\u001b[?25hdone\n",
            "  Created wheel for astroquery: filename=astroquery-0.4.1-cp36-none-any.whl size=3831873 sha256=706641e0976ba9ffd7c961cc24cb51a7d02d4a81fbafcba7cdca66f230532b1d\n",
            "  Stored in directory: /root/.cache/pip/wheels/88/f8/b7/a254cd96e808f708bc0b7d755a8e095c56fbbe94099d7b464f\n",
            "  Building wheel for fbpca (setup.py) ... \u001b[?25l\u001b[?25hdone\n",
            "  Created wheel for fbpca: filename=fbpca-1.0-cp36-none-any.whl size=11376 sha256=9b5d900a1c150e09af098fdf8d9ba71e1aa6f4ae480cb64b4a40f146486b8fd6\n",
            "  Stored in directory: /root/.cache/pip/wheels/53/a2/dd/9b66cf53dbc58cec1e613d216689e5fa946d3e7805c30f60dc\n",
            "  Building wheel for oktopus (setup.py) ... \u001b[?25l\u001b[?25hdone\n",
            "  Created wheel for oktopus: filename=oktopus-0.1.2-cp36-none-any.whl size=12781 sha256=0f0a58ce0c990c713be0d6b8c0796a42bfaf3fe5bfe41ea94187eb2c9e74470b\n",
            "  Stored in directory: /root/.cache/pip/wheels/9b/90/81/098fc66ee56166d63c9a8fc0a9672ae7b3423396a588ec952a\n",
            "Successfully built astroquery fbpca oktopus\n",
            "\u001b[31mERROR: tensorflow 2.3.0 has requirement scipy==1.4.1, but you'll have scipy 1.5.2 which is incompatible.\u001b[0m\n",
            "\u001b[31mERROR: albumentations 0.1.12 has requirement imgaug<0.2.7,>=0.2.5, but you'll have imgaug 0.2.9 which is incompatible.\u001b[0m\n",
            "Installing collected packages: jeepney, cryptography, SecretStorage, keyring, astroquery, uncertainties, fbpca, scipy, oktopus, lightkurve\n",
            "  Found existing installation: scipy 1.4.1\n",
            "    Uninstalling scipy-1.4.1:\n",
            "      Successfully uninstalled scipy-1.4.1\n",
            "Successfully installed SecretStorage-3.1.2 astroquery-0.4.1 cryptography-3.1.1 fbpca-1.0 jeepney-0.4.3 keyring-21.4.0 lightkurve-1.11.3 oktopus-0.1.2 scipy-1.5.2 uncertainties-3.1.4\n"
          ],
          "name": "stdout"
        }
      ]
    },
    {
      "cell_type": "code",
      "metadata": {
        "id": "aremk1iACw4c",
        "outputId": "e15ca1b8-dcef-4756-beee-5f90d8b4e035",
        "colab": {
          "base_uri": "https://localhost:8080/",
          "height": 272
        }
      },
      "source": [
        "# now we can open each data file, here are some examples:\n",
        "## NOTICE: for the path I do NOT use the \"\\\" in My\\ Drive\" like we did for the terminal commands above\n",
        "\n",
        "# for .csv files\n",
        "data_1 = pd.read_csv('/content/gdrive/My Drive/EscapeEarthData/2161623_lc.csv') \n",
        "# for .npy files\n",
        "data_2 = np.load('/content/gdrive/My Drive/EscapeEarthData/bls_powers.npy')\n",
        "# let's see the data\n",
        "print('Data-1 Example:',data_1)\n",
        "print('Data-2 Example:',data_2)"
      ],
      "execution_count": 5,
      "outputs": [
        {
          "output_type": "stream",
          "text": [
            "Data-1 Example:      # bjd\\tphase\\traw_flux\\traw_err\\tcorr_flux\\tcorr_err\\tdtr_flux\\tdtr_err\n",
            "0     56107.16069599\\t0.03416000\\t0.593396\\t0.000242...                     \n",
            "1     56107.18113035\\t0.04310882\\t0.745326\\t0.000245...                     \n",
            "2     56107.20156461\\t0.05205760\\t0.871438\\t0.000247...                     \n",
            "3     56107.22199908\\t0.06100646\\t0.960180\\t0.000249...                     \n",
            "4     56107.24243344\\t0.06995528\\t0.994236\\t0.000252...                     \n",
            "...                                                 ...                     \n",
            "8631  56304.05439858\\t0.25982505\\t1.050795\\t0.000264...                     \n",
            "8632  56304.07483160\\t0.26877329\\t1.050991\\t0.000264...                     \n",
            "8633  56304.09526452\\t0.27772148\\t1.051052\\t0.000264...                     \n",
            "8634  56304.11569744\\t0.28666967\\t1.050454\\t0.000264...                     \n",
            "8635  56304.13613036\\t0.29561785\\t1.050061\\t0.000264...                     \n",
            "\n",
            "[8636 rows x 1 columns]\n",
            "Data-2 Example: [34615   294    12 ... 43420 32493  4189]\n"
          ],
          "name": "stdout"
        }
      ]
    },
    {
      "cell_type": "code",
      "metadata": {
        "id": "KgYenzjMEu1g",
        "outputId": "af42ceb8-e288-48bc-e891-b4f2e44c9a94",
        "colab": {
          "base_uri": "https://localhost:8080/",
          "height": 419
        }
      },
      "source": [
        "# Data-1 Example's format isn't a typical dataframe so let's try this\n",
        "data_1"
      ],
      "execution_count": 6,
      "outputs": [
        {
          "output_type": "execute_result",
          "data": {
            "text/html": [
              "<div>\n",
              "<style scoped>\n",
              "    .dataframe tbody tr th:only-of-type {\n",
              "        vertical-align: middle;\n",
              "    }\n",
              "\n",
              "    .dataframe tbody tr th {\n",
              "        vertical-align: top;\n",
              "    }\n",
              "\n",
              "    .dataframe thead th {\n",
              "        text-align: right;\n",
              "    }\n",
              "</style>\n",
              "<table border=\"1\" class=\"dataframe\">\n",
              "  <thead>\n",
              "    <tr style=\"text-align: right;\">\n",
              "      <th></th>\n",
              "      <th># bjd\\tphase\\traw_flux\\traw_err\\tcorr_flux\\tcorr_err\\tdtr_flux\\tdtr_err</th>\n",
              "    </tr>\n",
              "  </thead>\n",
              "  <tbody>\n",
              "    <tr>\n",
              "      <th>0</th>\n",
              "      <td>56107.16069599\\t0.03416000\\t0.593396\\t0.000242...</td>\n",
              "    </tr>\n",
              "    <tr>\n",
              "      <th>1</th>\n",
              "      <td>56107.18113035\\t0.04310882\\t0.745326\\t0.000245...</td>\n",
              "    </tr>\n",
              "    <tr>\n",
              "      <th>2</th>\n",
              "      <td>56107.20156461\\t0.05205760\\t0.871438\\t0.000247...</td>\n",
              "    </tr>\n",
              "    <tr>\n",
              "      <th>3</th>\n",
              "      <td>56107.22199908\\t0.06100646\\t0.960180\\t0.000249...</td>\n",
              "    </tr>\n",
              "    <tr>\n",
              "      <th>4</th>\n",
              "      <td>56107.24243344\\t0.06995528\\t0.994236\\t0.000252...</td>\n",
              "    </tr>\n",
              "    <tr>\n",
              "      <th>...</th>\n",
              "      <td>...</td>\n",
              "    </tr>\n",
              "    <tr>\n",
              "      <th>8631</th>\n",
              "      <td>56304.05439858\\t0.25982505\\t1.050795\\t0.000264...</td>\n",
              "    </tr>\n",
              "    <tr>\n",
              "      <th>8632</th>\n",
              "      <td>56304.07483160\\t0.26877329\\t1.050991\\t0.000264...</td>\n",
              "    </tr>\n",
              "    <tr>\n",
              "      <th>8633</th>\n",
              "      <td>56304.09526452\\t0.27772148\\t1.051052\\t0.000264...</td>\n",
              "    </tr>\n",
              "    <tr>\n",
              "      <th>8634</th>\n",
              "      <td>56304.11569744\\t0.28666967\\t1.050454\\t0.000264...</td>\n",
              "    </tr>\n",
              "    <tr>\n",
              "      <th>8635</th>\n",
              "      <td>56304.13613036\\t0.29561785\\t1.050061\\t0.000264...</td>\n",
              "    </tr>\n",
              "  </tbody>\n",
              "</table>\n",
              "<p>8636 rows × 1 columns</p>\n",
              "</div>"
            ],
            "text/plain": [
              "     # bjd\\tphase\\traw_flux\\traw_err\\tcorr_flux\\tcorr_err\\tdtr_flux\\tdtr_err\n",
              "0     56107.16069599\\t0.03416000\\t0.593396\\t0.000242...                     \n",
              "1     56107.18113035\\t0.04310882\\t0.745326\\t0.000245...                     \n",
              "2     56107.20156461\\t0.05205760\\t0.871438\\t0.000247...                     \n",
              "3     56107.22199908\\t0.06100646\\t0.960180\\t0.000249...                     \n",
              "4     56107.24243344\\t0.06995528\\t0.994236\\t0.000252...                     \n",
              "...                                                 ...                     \n",
              "8631  56304.05439858\\t0.25982505\\t1.050795\\t0.000264...                     \n",
              "8632  56304.07483160\\t0.26877329\\t1.050991\\t0.000264...                     \n",
              "8633  56304.09526452\\t0.27772148\\t1.051052\\t0.000264...                     \n",
              "8634  56304.11569744\\t0.28666967\\t1.050454\\t0.000264...                     \n",
              "8635  56304.13613036\\t0.29561785\\t1.050061\\t0.000264...                     \n",
              "\n",
              "[8636 rows x 1 columns]"
            ]
          },
          "metadata": {
            "tags": []
          },
          "execution_count": 6
        }
      ]
    },
    {
      "cell_type": "code",
      "metadata": {
        "id": "pSa7YuQTE5iw",
        "outputId": "3ef99dce-5e56-47b4-ddad-53953cd470fc",
        "colab": {
          "base_uri": "https://localhost:8080/",
          "height": 419
        }
      },
      "source": [
        "# that looks better but we still only have one column \n",
        "# - let's use input arguments to fix the formatting\n",
        "\n",
        "#notice I'm rewriting the variable too\n",
        "data_1 = pd.read_csv('/content/gdrive/My Drive/EscapeEarthData/2161623_lc.csv',header=0,delimiter ='\t')\n",
        "data_1"
      ],
      "execution_count": 7,
      "outputs": [
        {
          "output_type": "execute_result",
          "data": {
            "text/html": [
              "<div>\n",
              "<style scoped>\n",
              "    .dataframe tbody tr th:only-of-type {\n",
              "        vertical-align: middle;\n",
              "    }\n",
              "\n",
              "    .dataframe tbody tr th {\n",
              "        vertical-align: top;\n",
              "    }\n",
              "\n",
              "    .dataframe thead th {\n",
              "        text-align: right;\n",
              "    }\n",
              "</style>\n",
              "<table border=\"1\" class=\"dataframe\">\n",
              "  <thead>\n",
              "    <tr style=\"text-align: right;\">\n",
              "      <th></th>\n",
              "      <th># bjd</th>\n",
              "      <th>phase</th>\n",
              "      <th>raw_flux</th>\n",
              "      <th>raw_err</th>\n",
              "      <th>corr_flux</th>\n",
              "      <th>corr_err</th>\n",
              "      <th>dtr_flux</th>\n",
              "      <th>dtr_err</th>\n",
              "    </tr>\n",
              "  </thead>\n",
              "  <tbody>\n",
              "    <tr>\n",
              "      <th>0</th>\n",
              "      <td>56107.160696</td>\n",
              "      <td>0.034160</td>\n",
              "      <td>0.593396</td>\n",
              "      <td>0.000242</td>\n",
              "      <td>0.741012</td>\n",
              "      <td>0.000343</td>\n",
              "      <td>0.581487</td>\n",
              "      <td>0.000237</td>\n",
              "    </tr>\n",
              "    <tr>\n",
              "      <th>1</th>\n",
              "      <td>56107.181130</td>\n",
              "      <td>0.043109</td>\n",
              "      <td>0.745326</td>\n",
              "      <td>0.000245</td>\n",
              "      <td>0.956920</td>\n",
              "      <td>0.000347</td>\n",
              "      <td>0.730368</td>\n",
              "      <td>0.000240</td>\n",
              "    </tr>\n",
              "    <tr>\n",
              "      <th>2</th>\n",
              "      <td>56107.201565</td>\n",
              "      <td>0.052058</td>\n",
              "      <td>0.871438</td>\n",
              "      <td>0.000247</td>\n",
              "      <td>1.135839</td>\n",
              "      <td>0.000350</td>\n",
              "      <td>0.853949</td>\n",
              "      <td>0.000242</td>\n",
              "    </tr>\n",
              "    <tr>\n",
              "      <th>3</th>\n",
              "      <td>56107.221999</td>\n",
              "      <td>0.061006</td>\n",
              "      <td>0.960180</td>\n",
              "      <td>0.000249</td>\n",
              "      <td>1.261791</td>\n",
              "      <td>0.000353</td>\n",
              "      <td>0.940910</td>\n",
              "      <td>0.000244</td>\n",
              "    </tr>\n",
              "    <tr>\n",
              "      <th>4</th>\n",
              "      <td>56107.242433</td>\n",
              "      <td>0.069955</td>\n",
              "      <td>0.994236</td>\n",
              "      <td>0.000252</td>\n",
              "      <td>1.309991</td>\n",
              "      <td>0.000357</td>\n",
              "      <td>0.974283</td>\n",
              "      <td>0.000247</td>\n",
              "    </tr>\n",
              "    <tr>\n",
              "      <th>...</th>\n",
              "      <td>...</td>\n",
              "      <td>...</td>\n",
              "      <td>...</td>\n",
              "      <td>...</td>\n",
              "      <td>...</td>\n",
              "      <td>...</td>\n",
              "      <td>...</td>\n",
              "      <td>...</td>\n",
              "    </tr>\n",
              "    <tr>\n",
              "      <th>8631</th>\n",
              "      <td>56304.054399</td>\n",
              "      <td>0.259825</td>\n",
              "      <td>1.050795</td>\n",
              "      <td>0.000264</td>\n",
              "      <td>1.196939</td>\n",
              "      <td>0.000332</td>\n",
              "      <td>1.033424</td>\n",
              "      <td>0.000259</td>\n",
              "    </tr>\n",
              "    <tr>\n",
              "      <th>8632</th>\n",
              "      <td>56304.074832</td>\n",
              "      <td>0.268773</td>\n",
              "      <td>1.050991</td>\n",
              "      <td>0.000264</td>\n",
              "      <td>1.196989</td>\n",
              "      <td>0.000332</td>\n",
              "      <td>1.033611</td>\n",
              "      <td>0.000259</td>\n",
              "    </tr>\n",
              "    <tr>\n",
              "      <th>8633</th>\n",
              "      <td>56304.095265</td>\n",
              "      <td>0.277721</td>\n",
              "      <td>1.051052</td>\n",
              "      <td>0.000264</td>\n",
              "      <td>1.197222</td>\n",
              "      <td>0.000333</td>\n",
              "      <td>1.033666</td>\n",
              "      <td>0.000259</td>\n",
              "    </tr>\n",
              "    <tr>\n",
              "      <th>8634</th>\n",
              "      <td>56304.115697</td>\n",
              "      <td>0.286670</td>\n",
              "      <td>1.050454</td>\n",
              "      <td>0.000264</td>\n",
              "      <td>1.196450</td>\n",
              "      <td>0.000333</td>\n",
              "      <td>1.033072</td>\n",
              "      <td>0.000259</td>\n",
              "    </tr>\n",
              "    <tr>\n",
              "      <th>8635</th>\n",
              "      <td>56304.136130</td>\n",
              "      <td>0.295618</td>\n",
              "      <td>1.050061</td>\n",
              "      <td>0.000264</td>\n",
              "      <td>1.195763</td>\n",
              "      <td>0.000333</td>\n",
              "      <td>1.032680</td>\n",
              "      <td>0.000259</td>\n",
              "    </tr>\n",
              "  </tbody>\n",
              "</table>\n",
              "<p>8636 rows × 8 columns</p>\n",
              "</div>"
            ],
            "text/plain": [
              "             # bjd     phase  raw_flux  ...  corr_err  dtr_flux   dtr_err\n",
              "0     56107.160696  0.034160  0.593396  ...  0.000343  0.581487  0.000237\n",
              "1     56107.181130  0.043109  0.745326  ...  0.000347  0.730368  0.000240\n",
              "2     56107.201565  0.052058  0.871438  ...  0.000350  0.853949  0.000242\n",
              "3     56107.221999  0.061006  0.960180  ...  0.000353  0.940910  0.000244\n",
              "4     56107.242433  0.069955  0.994236  ...  0.000357  0.974283  0.000247\n",
              "...            ...       ...       ...  ...       ...       ...       ...\n",
              "8631  56304.054399  0.259825  1.050795  ...  0.000332  1.033424  0.000259\n",
              "8632  56304.074832  0.268773  1.050991  ...  0.000332  1.033611  0.000259\n",
              "8633  56304.095265  0.277721  1.051052  ...  0.000333  1.033666  0.000259\n",
              "8634  56304.115697  0.286670  1.050454  ...  0.000333  1.033072  0.000259\n",
              "8635  56304.136130  0.295618  1.050061  ...  0.000333  1.032680  0.000259\n",
              "\n",
              "[8636 rows x 8 columns]"
            ]
          },
          "metadata": {
            "tags": []
          },
          "execution_count": 7
        }
      ]
    },
    {
      "cell_type": "code",
      "metadata": {
        "id": "DEwsr7DaFf85",
        "outputId": "a1c4e2eb-1cb3-4957-b30a-c5caf48fa5b5",
        "colab": {
          "base_uri": "https://localhost:8080/",
          "height": 34
        }
      },
      "source": [
        "# Here's another trick \n",
        "# our path to the shared folder is long and we may not want to type it everytime\n",
        "# we can save the path and insert it as shown below\n",
        "\n",
        "mypath = '/content/gdrive/My Drive/EscapeEarthData'\n",
        "\n",
        "#let's open yet another data file\n",
        "data_3 = np.load('{}/bls_powers.npy'.format(mypath))\n",
        "print('Data-3 Example:',data_3)"
      ],
      "execution_count": 8,
      "outputs": [
        {
          "output_type": "stream",
          "text": [
            "Data-3 Example: [34615   294    12 ... 43420 32493  4189]\n"
          ],
          "name": "stdout"
        }
      ]
    },
    {
      "cell_type": "markdown",
      "metadata": {
        "id": "I67_AQlkM2Dq"
      },
      "source": [
        "# __How to Save NEW data to our shared folder__\n",
        "#### _Important Note_: when saving new data always name the file with a clear name followed by '-YourName'. And similar to how you opened data, you MUST enter the full path as shown in the cell directly above as the variable mypath and include an necessary subdirectories. I will then resave the new file within my google drive that has unlimited storage, whereas yours will not.\n",
        "#### FOR EXAMPLE: Using data_3's filename, you would save it as \"/content/gdrive/My Drive/EscapeEarthData/bls_powers-Danielle.npy\".  "
      ]
    },
    {
      "cell_type": "code",
      "metadata": {
        "id": "rKHDBQqMLP2E"
      },
      "source": [
        ""
      ],
      "execution_count": null,
      "outputs": []
    }
  ]
}