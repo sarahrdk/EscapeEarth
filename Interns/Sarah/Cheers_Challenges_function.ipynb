{
  "nbformat": 4,
  "nbformat_minor": 0,
  "metadata": {
    "colab": {
      "name": "Cheers-Challenges-function.ipynb",
      "provenance": [],
      "collapsed_sections": [],
      "authorship_tag": "ABX9TyPm5HfFSr9DnNsosw4AzUNH",
      "include_colab_link": true
    },
    "kernelspec": {
      "name": "python3",
      "display_name": "Python 3"
    }
  },
  "cells": [
    {
      "cell_type": "markdown",
      "metadata": {
        "id": "view-in-github",
        "colab_type": "text"
      },
      "source": [
        "<a href=\"https://colab.research.google.com/github/sarahrdk/EscapeEarth/blob/main/Interns/Sarah/Cheers_Challenges_function.ipynb\" target=\"_parent\"><img src=\"https://colab.research.google.com/assets/colab-badge.svg\" alt=\"Open In Colab\"/></a>"
      ]
    },
    {
      "cell_type": "code",
      "metadata": {
        "id": "weAL2r8D9U41",
        "outputId": "c4e14b80-6287-4cb8-f679-c57a47cca264",
        "colab": {
          "base_uri": "https://localhost:8080/",
          "height": 35
        }
      },
      "source": [
        "#import library\n",
        "import random\n",
        "#make list with all our names\n",
        "names = [\"Olivia\", \"Maria\", \"Anna-Claire\", \"Eliza\", \"Sarah\", \"Elise\"]\n",
        "\n",
        "def CheersChallenges(names):\n",
        "  #randomly selects a string within the list\n",
        "  name = random.choice(names) \n",
        "  return name\n",
        "\n",
        "CheersChallenges(names)\n"
      ],
      "execution_count": 12,
      "outputs": [
        {
          "output_type": "execute_result",
          "data": {
            "application/vnd.google.colaboratory.intrinsic+json": {
              "type": "string"
            },
            "text/plain": [
              "'Anna-Claire'"
            ]
          },
          "metadata": {
            "tags": []
          },
          "execution_count": 12
        }
      ]
    }
  ]
}